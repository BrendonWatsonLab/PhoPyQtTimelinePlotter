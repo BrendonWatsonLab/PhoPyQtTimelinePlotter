{
 "cells": [
  {
   "cell_type": "code",
   "execution_count": 1,
   "metadata": {},
   "outputs": [],
   "source": [
    "%load_ext autoreload\n",
    "%autoreload 2\n",
    "%config Completer.use_jedi = False\n",
    "\n",
    "# # required to enable non-blocking interaction:\n",
    "%gui qt5\n",
    "\n",
    "import logging\n",
    "import sys\n",
    "import numpy\n",
    "import h5py\n",
    "\n",
    "logging.basicConfig()\n",
    "_logger = logging.getLogger(\"customDataSelectionWidget\")\n",
    "\n",
    "import silx.io\n",
    "from silx.io.url import DataUrl # DataUrl\n",
    "from silx.gui import qt\n",
    "import silx.gui.hdf5\n",
    "from silx.gui.dialog.GroupDialog import GroupDialog\n",
    "from silx.io import get_data\n",
    "sys.excepthook = qt.exceptionHandler\n",
    "\n",
    "from pathlib import Path\n",
    "# C:\\Users\\pho\\repos\\PhoPyQtTimelinePlotter\\app\n",
    "from phopyqttimelineplotter.app.filesystem.FilesystemRecordBase import discover_data_files\n",
    "# from phopyqttimelineplotter.app.filesystem.FilesystemRecordBase import discover_data_files\n",
    "\n",
    "# silx GUI:\n",
    "# from silx.gui import qt\n",
    "# from silx.gui.plot.StackView import StackViewMainWindow"
   ]
  },
  {
   "cell_type": "code",
   "execution_count": 2,
   "metadata": {},
   "outputs": [
    {
     "name": "stdout",
     "output_type": "stream",
     "text": [
      "on_click_select_group_button(*args: (False,), variable_name: t)\n",
      "selected_data_node_item: <silx.gui.hdf5._utils.H5Node object at 0x000001FA581BA610>\n",
      "on_click_select_group_button(*args: (False,), variable_name: x)\n",
      "selected_data_node_item: <silx.gui.hdf5._utils.H5Node object at 0x000001FA5818B6A0>\n",
      "on_click_select_group_button(*args: (False,), variable_name: y)\n",
      "selected_data_node_item: <silx.gui.hdf5._utils.H5Node object at 0x000001FA581BA7C0>\n"
     ]
    }
   ],
   "source": [
    "from phopyqttimelineplotter.GUI.UI.CustomDataSelectionWidget.CustomDataSelectionWidget import CustomDataSelectionWidget\n",
    "\n",
    "widget = CustomDataSelectionWidget()\n",
    "# widget.show()"
   ]
  },
  {
   "cell_type": "code",
   "execution_count": null,
   "metadata": {},
   "outputs": [],
   "source": [
    "def _perform_load_data(finalized_selected_data_dict, limitedVariablesToCreateEventsFor=None, debug_print=True):\n",
    "    \"\"\" actually loads the data \"\"\"\n",
    "    print(f'_perform_load_data(finalized_selected_data_dict: {finalized_selected_data_dict})')\n",
    "    if limitedVariablesToCreateEventsFor is not None:\n",
    "        active_variable_names = limitedVariablesToCreateEventsFor\n",
    "\n",
    "    else:\n",
    "        # Otherwise load for all variables\n",
    "        active_variable_names = list(finalized_selected_data_dict.keys())\n",
    "\n",
    "    numVariables = len(active_variable_names)\n",
    "    activeLoadedDataValuesDict = {var_name:None for var_name in active_variable_names}\n",
    "\n",
    "    for variableIndex in range(0, numVariables):\n",
    "        currVariableName = active_variable_names[variableIndex]\n",
    "        currVariableDataNode = finalized_selected_data_dict[currVariableName]\n",
    "        assert currVariableDataNode is not None\n",
    "        # assert isinstance(currVariableDataNode, DataUrl)\n",
    "        currVariableDataUrl = GroupDialog.selectedUrlFromNode(currVariableDataNode, subgroupName='')\n",
    "        \n",
    "        # currVariableDataUrl = finalized_selected_data_dict[currVariableName]\n",
    "        assert currVariableDataUrl is not None\n",
    "        assert isinstance(currVariableDataUrl, DataUrl)\n",
    "        if debug_print:\n",
    "            print(f'\\t About to load: currVariableName: {currVariableName}, currVariableDataUrl: {currVariableDataUrl}...')\n",
    "        ## Here we actually load the values:\n",
    "        currVariableDataValues = silx.io.get_data(currVariableDataUrl)\n",
    "        print(f'currVariableDataValues: {currVariableDataValues}')\n",
    "        activeLoadedDataValuesDict[currVariableName] = currVariableDataValues\n",
    "\n",
    "    return activeLoadedDataValuesDict\n",
    "\n",
    "def _on_perform_load_data_selection(selected_data_dict):\n",
    "    print(f'_on_perform_load_data_selection(selected_data_dict: {selected_data_dict})')\n",
    "    # activeLoadedDataValuesDict = CustomDataSelectionWidget.perform_load_data(selected_data_dict)\n",
    "    activeLoadedDataValuesDict = _perform_load_data(selected_data_dict)\n",
    "    print(f'\\t activeLoadedDataValuesDict: {activeLoadedDataValuesDict}')\n",
    "    \n",
    "_conn = widget.loadDataSelection.connect(_on_perform_load_data_selection)"
   ]
  },
  {
   "cell_type": "code",
   "execution_count": null,
   "metadata": {},
   "outputs": [],
   "source": [
    "widget.loadDataSelection.disconnect()"
   ]
  },
  {
   "cell_type": "code",
   "execution_count": 3,
   "metadata": {},
   "outputs": [
    {
     "ename": "AttributeError",
     "evalue": "'CustomDataSelectionWidget' object has no attribute 'are_all_variables_valid'",
     "output_type": "error",
     "traceback": [
      "\u001b[1;31m---------------------------------------------------------------------------\u001b[0m",
      "\u001b[1;31mAttributeError\u001b[0m                            Traceback (most recent call last)",
      "Input \u001b[1;32mIn [3]\u001b[0m, in \u001b[0;36m<module>\u001b[1;34m\u001b[0m\n\u001b[1;32m----> 1\u001b[0m \u001b[43mwidget\u001b[49m\u001b[38;5;241;43m.\u001b[39;49m\u001b[43mare_all_variables_valid\u001b[49m\n",
      "\u001b[1;31mAttributeError\u001b[0m: 'CustomDataSelectionWidget' object has no attribute 'are_all_variables_valid'"
     ]
    }
   ],
   "source": [
    "widget.are_all_variables_valid"
   ]
  },
  {
   "cell_type": "code",
   "execution_count": null,
   "metadata": {},
   "outputs": [],
   "source": [
    "selected_data_dict = widget.selected_data\n",
    "selected_data_dict"
   ]
  },
  {
   "cell_type": "code",
   "execution_count": 4,
   "metadata": {},
   "outputs": [],
   "source": [
    "selected_data_nodes_dict = widget.selected_data_nodes\n",
    "selected_data_nodes_dict"
   ]
  },
  {
   "cell_type": "code",
   "execution_count": 7,
   "metadata": {},
   "outputs": [],
   "source": [
    "a_node = selected_data_nodes_dict['t']\n",
    "a_node"
   ]
  },
  {
   "cell_type": "code",
   "execution_count": 17,
   "metadata": {},
   "outputs": [
    {
     "ename": "AttributeError",
     "evalue": "H5Node has no attribute physical_file",
     "output_type": "error",
     "traceback": [
      "\u001b[1;31m---------------------------------------------------------------------------\u001b[0m",
      "\u001b[1;31mAttributeError\u001b[0m                            Traceback (most recent call last)",
      "Input \u001b[1;32mIn [17]\u001b[0m, in \u001b[0;36m<module>\u001b[1;34m\u001b[0m\n\u001b[1;32m----> 1\u001b[0m \u001b[43ma_node\u001b[49m\u001b[38;5;241;43m.\u001b[39;49m\u001b[43mphysical_file\u001b[49m\n",
      "File \u001b[1;32m~\\miniconda3\\envs\\PyQt6\\lib\\site-packages\\silx\\gui\\hdf5\\_utils.py:161\u001b[0m, in \u001b[0;36mH5Node.__getattr__\u001b[1;34m(self, name)\u001b[0m\n\u001b[0;32m    159\u001b[0m     attr \u001b[38;5;241m=\u001b[39m \u001b[38;5;28mgetattr\u001b[39m(\u001b[38;5;28mself\u001b[39m\u001b[38;5;241m.\u001b[39m__h5py_object, name)\n\u001b[0;32m    160\u001b[0m     \u001b[38;5;28;01mreturn\u001b[39;00m attr\n\u001b[1;32m--> 161\u001b[0m \u001b[38;5;28;01mraise\u001b[39;00m \u001b[38;5;167;01mAttributeError\u001b[39;00m(\u001b[38;5;124m\"\u001b[39m\u001b[38;5;124mH5Node has no attribute \u001b[39m\u001b[38;5;132;01m%s\u001b[39;00m\u001b[38;5;124m\"\u001b[39m \u001b[38;5;241m%\u001b[39m name)\n",
      "\u001b[1;31mAttributeError\u001b[0m: H5Node has no attribute physical_file"
     ]
    }
   ],
   "source": [
    "a_node.physical_file"
   ]
  },
  {
   "cell_type": "code",
   "execution_count": null,
   "metadata": {},
   "outputs": [],
   "source": [
    "selected_data_dict"
   ]
  },
  {
   "cell_type": "code",
   "execution_count": 5,
   "metadata": {},
   "outputs": [
    {
     "ename": "AttributeError",
     "evalue": "H5Node has no attribute local_name",
     "output_type": "error",
     "traceback": [
      "\u001b[1;31m---------------------------------------------------------------------------\u001b[0m",
      "\u001b[1;31mAttributeError\u001b[0m                            Traceback (most recent call last)",
      "Input \u001b[1;32mIn [5]\u001b[0m, in \u001b[0;36m<module>\u001b[1;34m\u001b[0m\n\u001b[0;32m      1\u001b[0m \u001b[38;5;66;03m# selected_data_urls_dict = widget.selected_data_urls\u001b[39;00m\n\u001b[1;32m----> 2\u001b[0m selected_data_urls_dict \u001b[38;5;241m=\u001b[39m {var_name:GroupDialog\u001b[38;5;241m.\u001b[39mselectedUrlFromNode(node, subgroupName\u001b[38;5;241m=\u001b[39m\u001b[38;5;124m'\u001b[39m\u001b[38;5;124m'\u001b[39m) \u001b[38;5;28;01mfor\u001b[39;00m var_name, node \u001b[38;5;129;01min\u001b[39;00m selected_data_nodes_dict\u001b[38;5;241m.\u001b[39mitems()}\n\u001b[0;32m      3\u001b[0m selected_data_urls_dict\n",
      "Input \u001b[1;32mIn [5]\u001b[0m, in \u001b[0;36m<dictcomp>\u001b[1;34m(.0)\u001b[0m\n\u001b[0;32m      1\u001b[0m \u001b[38;5;66;03m# selected_data_urls_dict = widget.selected_data_urls\u001b[39;00m\n\u001b[1;32m----> 2\u001b[0m selected_data_urls_dict \u001b[38;5;241m=\u001b[39m {var_name:\u001b[43mGroupDialog\u001b[49m\u001b[38;5;241;43m.\u001b[39;49m\u001b[43mselectedUrlFromNode\u001b[49m\u001b[43m(\u001b[49m\u001b[43mnode\u001b[49m\u001b[43m,\u001b[49m\u001b[43m \u001b[49m\u001b[43msubgroupName\u001b[49m\u001b[38;5;241;43m=\u001b[39;49m\u001b[38;5;124;43m'\u001b[39;49m\u001b[38;5;124;43m'\u001b[39;49m\u001b[43m)\u001b[49m \u001b[38;5;28;01mfor\u001b[39;00m var_name, node \u001b[38;5;129;01min\u001b[39;00m selected_data_nodes_dict\u001b[38;5;241m.\u001b[39mitems()}\n\u001b[0;32m      3\u001b[0m selected_data_urls_dict\n",
      "File \u001b[1;32m~\\miniconda3\\envs\\PyQt6\\lib\\site-packages\\silx\\gui\\dialog\\GroupDialog.py:270\u001b[0m, in \u001b[0;36mGroupDialog.selectedUrlFromNode\u001b[1;34m(cls, node, subgroupName)\u001b[0m\n\u001b[0;32m    268\u001b[0m \u001b[38;5;28;01mif\u001b[39;00m node \u001b[38;5;129;01mis\u001b[39;00m \u001b[38;5;28;01mNone\u001b[39;00m:\n\u001b[0;32m    269\u001b[0m     \u001b[38;5;28;01mreturn\u001b[39;00m \u001b[38;5;28;01mNone\u001b[39;00m\n\u001b[1;32m--> 270\u001b[0m data_path \u001b[38;5;241m=\u001b[39m \u001b[43mnode\u001b[49m\u001b[38;5;241;43m.\u001b[39;49m\u001b[43mlocal_name\u001b[49m\n\u001b[0;32m    271\u001b[0m \u001b[38;5;28;01mif\u001b[39;00m subgroupName\u001b[38;5;241m.\u001b[39mlstrip(\u001b[38;5;124m\"\u001b[39m\u001b[38;5;124m/\u001b[39m\u001b[38;5;124m\"\u001b[39m):\n\u001b[0;32m    272\u001b[0m     \u001b[38;5;28;01mif\u001b[39;00m \u001b[38;5;129;01mnot\u001b[39;00m data_path\u001b[38;5;241m.\u001b[39mendswith(\u001b[38;5;124m\"\u001b[39m\u001b[38;5;124m/\u001b[39m\u001b[38;5;124m\"\u001b[39m):\n",
      "File \u001b[1;32m~\\miniconda3\\envs\\PyQt6\\lib\\site-packages\\silx\\gui\\hdf5\\_utils.py:161\u001b[0m, in \u001b[0;36mH5Node.__getattr__\u001b[1;34m(self, name)\u001b[0m\n\u001b[0;32m    159\u001b[0m     attr \u001b[38;5;241m=\u001b[39m \u001b[38;5;28mgetattr\u001b[39m(\u001b[38;5;28mself\u001b[39m\u001b[38;5;241m.\u001b[39m__h5py_object, name)\n\u001b[0;32m    160\u001b[0m     \u001b[38;5;28;01mreturn\u001b[39;00m attr\n\u001b[1;32m--> 161\u001b[0m \u001b[38;5;28;01mraise\u001b[39;00m \u001b[38;5;167;01mAttributeError\u001b[39;00m(\u001b[38;5;124m\"\u001b[39m\u001b[38;5;124mH5Node has no attribute \u001b[39m\u001b[38;5;132;01m%s\u001b[39;00m\u001b[38;5;124m\"\u001b[39m \u001b[38;5;241m%\u001b[39m name)\n",
      "\u001b[1;31mAttributeError\u001b[0m: H5Node has no attribute local_name"
     ]
    }
   ],
   "source": [
    "# selected_data_urls_dict = widget.selected_data_urls\n",
    "selected_data_urls_dict = {var_name:GroupDialog.selectedUrlFromNode(node, subgroupName='') for var_name, node in selected_data_nodes_dict.items()}\n",
    "selected_data_urls_dict"
   ]
  },
  {
   "cell_type": "code",
   "execution_count": null,
   "metadata": {},
   "outputs": [],
   "source": [
    "activeLoadedDataValuesDict = _perform_load_data(selected_data_dict)\n",
    "print(f'\\t activeLoadedDataValuesDict: {activeLoadedDataValuesDict}')"
   ]
  },
  {
   "cell_type": "markdown",
   "metadata": {
    "jp-MarkdownHeadingCollapsed": true,
    "tags": []
   },
   "source": [
    "# Old Filesystem Stuff"
   ]
  },
  {
   "cell_type": "code",
   "execution_count": null,
   "metadata": {},
   "outputs": [],
   "source": [
    "# wants_recurrsive_data_file_search = False\n",
    "wants_recurrsive_data_file_search = True\n",
    "# files_search_parent_path = Path(r'R:\\data\\RoyMaze1')\n",
    "# files_search_parent_path = Path(r'W:\\Data\\KDIBA\\gor01\\one\\2006-6-08_14-26-15')\n",
    "files_search_parent_path = Path(r'C:\\Users\\pho\\repos\\PhoPy3DPositionAnalysis2021')\n",
    "\n",
    "# filenames_list = []\n",
    "# no_args_specified = (len(filenames_list) == 0)\n",
    "# if no_args_specified:\n",
    "# \tprint(f'no path specified as args, using default {files_search_parent_path}')\n",
    "# \tfilenames_list = [files_search_parent_path]\n",
    "\t\n",
    "# filenames_list = [Path(filename) for filename in filenames_list]\n",
    "# filenames_list\n",
    "\n"
   ]
  },
  {
   "cell_type": "code",
   "execution_count": null,
   "metadata": {},
   "outputs": [],
   "source": [
    "filenames_list = discover_data_files(files_search_parent_path, file_extension='.h5', recursive=wants_recurrsive_data_file_search)\n",
    "filenames_list\n"
   ]
  },
  {
   "cell_type": "code",
   "execution_count": null,
   "metadata": {},
   "outputs": [],
   "source": [
    "filenames_strs_list = [\n",
    "# r\"W:\\Data\\KDIBA\\gor01\\one\\2006-6-08_14-26-15\\2006-6-08_14-26-15-gam.mat\",\n",
    "# r\"W:\\Data\\KDIBA\\gor01\\one\\2006-6-08_14-26-15\\2006-6-08_14-26-15-low.mat\",\n",
    "r\"W:\\Data\\KDIBA\\gor01\\one\\2006-6-08_14-26-15\\2006-6-08_14-26-15-replay.mat\",\n",
    "# r\"W:\\Data\\KDIBA\\gor01\\one\\2006-6-08_14-26-15\\2006-6-08_14-26-15-rip.mat\",\n",
    "# r\"W:\\Data\\KDIBA\\gor01\\one\\2006-6-08_14-26-15\\2006-6-08_14-26-15-ripV6.mat\",\n",
    "# r\"W:\\Data\\KDIBA\\gor01\\one\\2006-6-08_14-26-15\\2006-6-08_14-26-15.eegseg.mat\",\n",
    "r\"W:\\Data\\KDIBA\\gor01\\one\\2006-6-08_14-26-15\\2006-6-08_14-26-15.epochs_info.mat\",\n",
    "# r\"W:\\Data\\KDIBA\\gor01\\one\\2006-6-08_14-26-15\\2006-6-08_14-26-15.Gamma.mat\",\n",
    "r\"W:\\Data\\KDIBA\\gor01\\one\\2006-6-08_14-26-15\\2006-6-08_14-26-15.laps_info.mat\",\n",
    "# r\"W:\\Data\\KDIBA\\gor01\\one\\2006-6-08_14-26-15\\2006-6-08_14-26-15.NeuronQuality.mat\",\n",
    "# r\"W:\\Data\\KDIBA\\gor01\\one\\2006-6-08_14-26-15\\2006-6-08_14-26-15.NQv6.mat\",\n",
    "r\"W:\\Data\\KDIBA\\gor01\\one\\2006-6-08_14-26-15\\2006-6-08_14-26-15.position_info.mat\",\n",
    "# r\"W:\\Data\\KDIBA\\gor01\\one\\2006-6-08_14-26-15\\2006-6-08_14-26-15.Rise.mat\",\n",
    "# r\"W:\\Data\\KDIBA\\gor01\\one\\2006-6-08_14-26-15\\2006-6-08_14-26-15.session.mat\",\n",
    "# r\"W:\\Data\\KDIBA\\gor01\\one\\2006-6-08_14-26-15\\2006-6-08_14-26-15.spikeII.mat\",\n",
    "# r\"W:\\Data\\KDIBA\\gor01\\one\\2006-6-08_14-26-15\\2006-6-08_14-26-15.spikeJ.mat\",\n",
    "# r\"W:\\Data\\KDIBA\\gor01\\one\\2006-6-08_14-26-15\\2006-6-08_14-26-15.spikes.mat\",\n",
    "# r\"W:\\Data\\KDIBA\\gor01\\one\\2006-6-08_14-26-15\\2006-6-08_14-26-15.SynchCA.mat\",\n",
    "# r\"W:\\Data\\KDIBA\\gor01\\one\\2006-6-08_14-26-15\\2006-6-08_14-26-15.SynchCA1.mat\",\n",
    "# r\"W:\\Data\\KDIBA\\gor01\\one\\2006-6-08_14-26-15\\2006-6-08_14-26-15.SynchCA3.mat\",\n",
    "# r\"W:\\Data\\KDIBA\\gor01\\one\\2006-6-08_14-26-15\\2006-6-08_14-26-15HCCG.mat\",\n",
    "# r\"W:\\Data\\KDIBA\\gor01\\one\\2006-6-08_14-26-15\\2006-6-08_14-26-15INCCG.mat\",\n",
    "# r\"W:\\Data\\KDIBA\\gor01\\one\\2006-6-08_14-26-15\\2006-6-08_14-26-15vt.mat\",\n",
    "# r\"W:\\Data\\KDIBA\\gor01\\one\\2006-6-08_14-26-15\\data_NeuroScope2.mat\"\n",
    "]\n",
    "filenames_list = [Path(filename) for filename in filenames_strs_list]\n",
    "# filenames_list"
   ]
  },
  {
   "cell_type": "code",
   "execution_count": null,
   "metadata": {},
   "outputs": [],
   "source": [
    "from silx.gui.dialog.GroupDialog import GroupDialog\n",
    "\n",
    "dialog = GroupDialog()\n",
    "# dialog.addFile(str(filenames_list[0]))\n",
    "[dialog.addFile(str(a_filename)) for a_filename in filenames_list]\n",
    "dialog.show()\n",
    "if dialog.exec():\n",
    "    print(\"File path: %s\" % dialog.getSelectedDataUrl().file_path())\n",
    "    print(\"HDF5 group path : %s \" % dialog.getSelectedDataUrl().data_path())\n",
    "else:\n",
    "    print(\"Operation cancelled :(\")"
   ]
  },
  {
   "cell_type": "code",
   "execution_count": null,
   "metadata": {},
   "outputs": [],
   "source": []
  }
 ],
 "metadata": {
  "kernelspec": {
   "display_name": "Python [conda env:PyQt6]",
   "language": "python",
   "name": "conda-env-PyQt6-py"
  },
  "language_info": {
   "codemirror_mode": {
    "name": "ipython",
    "version": 3
   },
   "file_extension": ".py",
   "mimetype": "text/x-python",
   "name": "python",
   "nbconvert_exporter": "python",
   "pygments_lexer": "ipython3",
   "version": "3.9.13"
  },
  "vscode": {
   "interpreter": {
    "hash": "7661c287af60a9c20613cabe3e87f3b09e4df5b196f0e10b1bebb1264e324d9a"
   }
  }
 },
 "nbformat": 4,
 "nbformat_minor": 4
}
