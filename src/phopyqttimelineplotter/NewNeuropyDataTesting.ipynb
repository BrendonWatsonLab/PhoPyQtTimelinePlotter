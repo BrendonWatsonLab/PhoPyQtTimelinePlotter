{
 "cells": [
  {
   "cell_type": "code",
   "execution_count": 1,
   "metadata": {},
   "outputs": [],
   "source": [
    "import numpy\n",
    "import sys\n",
    "\n",
    "from pathlib import Path\n",
    "# C:\\Users\\pho\\repos\\PhoPyQtTimelinePlotter\\app\n",
    "from phopyqttimelineplotter.app.filesystem.FilesystemRecordBase import discover_data_files\n",
    "# from app.filesystem.FilesystemRecordBase import discover_data_files\n",
    "\n",
    "# silx GUI:\n",
    "from silx.gui import qt\n",
    "from silx.gui.plot.StackView import StackViewMainWindow"
   ]
  },
  {
   "cell_type": "code",
   "execution_count": 2,
   "metadata": {},
   "outputs": [
    {
     "ename": "SyntaxError",
     "evalue": "invalid syntax (4223479710.py, line 1)",
     "output_type": "error",
     "traceback": [
      "\u001b[1;36m  Input \u001b[1;32mIn [2]\u001b[1;36m\u001b[0m\n\u001b[1;33m    from phopyqttimelineplotter.GUI.UI.CustomDataSelectionWidget import\u001b[0m\n\u001b[1;37m                                                                        ^\u001b[0m\n\u001b[1;31mSyntaxError\u001b[0m\u001b[1;31m:\u001b[0m invalid syntax\n"
     ]
    }
   ],
   "source": [
    "# from phopyqttimelineplotter.GUI.UI.CustomDataSelectionWidget import "
   ]
  },
  {
   "cell_type": "code",
   "execution_count": null,
   "metadata": {},
   "outputs": [],
   "source": [
    "# wants_recurrsive_data_file_search = False\n",
    "wants_recurrsive_data_file_search = True\n",
    "# files_search_parent_path = Path(r'R:\\data\\RoyMaze1')\n",
    "# files_search_parent_path = Path(r'W:\\Data\\KDIBA\\gor01\\one\\2006-6-08_14-26-15')\n",
    "files_search_parent_path = Path(r'C:\\Users\\pho\\repos\\PhoPy3DPositionAnalysis2021')\n",
    "\n",
    "# filenames_list = []\n",
    "# no_args_specified = (len(filenames_list) == 0)\n",
    "# if no_args_specified:\n",
    "# \tprint(f'no path specified as args, using default {files_search_parent_path}')\n",
    "# \tfilenames_list = [files_search_parent_path]\n",
    "\t\n",
    "# filenames_list = [Path(filename) for filename in filenames_list]\n",
    "# filenames_list\n",
    "\n"
   ]
  },
  {
   "cell_type": "code",
   "execution_count": null,
   "metadata": {},
   "outputs": [],
   "source": [
    "filenames_list = discover_data_files(files_search_parent_path, file_extension='.h5', recursive=wants_recurrsive_data_file_search)\n",
    "filenames_list\n"
   ]
  },
  {
   "cell_type": "code",
   "execution_count": null,
   "metadata": {},
   "outputs": [],
   "source": [
    "filenames_strs_list = [\n",
    "# r\"W:\\Data\\KDIBA\\gor01\\one\\2006-6-08_14-26-15\\2006-6-08_14-26-15-gam.mat\",\n",
    "# r\"W:\\Data\\KDIBA\\gor01\\one\\2006-6-08_14-26-15\\2006-6-08_14-26-15-low.mat\",\n",
    "r\"W:\\Data\\KDIBA\\gor01\\one\\2006-6-08_14-26-15\\2006-6-08_14-26-15-replay.mat\",\n",
    "# r\"W:\\Data\\KDIBA\\gor01\\one\\2006-6-08_14-26-15\\2006-6-08_14-26-15-rip.mat\",\n",
    "# r\"W:\\Data\\KDIBA\\gor01\\one\\2006-6-08_14-26-15\\2006-6-08_14-26-15-ripV6.mat\",\n",
    "# r\"W:\\Data\\KDIBA\\gor01\\one\\2006-6-08_14-26-15\\2006-6-08_14-26-15.eegseg.mat\",\n",
    "r\"W:\\Data\\KDIBA\\gor01\\one\\2006-6-08_14-26-15\\2006-6-08_14-26-15.epochs_info.mat\",\n",
    "# r\"W:\\Data\\KDIBA\\gor01\\one\\2006-6-08_14-26-15\\2006-6-08_14-26-15.Gamma.mat\",\n",
    "r\"W:\\Data\\KDIBA\\gor01\\one\\2006-6-08_14-26-15\\2006-6-08_14-26-15.laps_info.mat\",\n",
    "# r\"W:\\Data\\KDIBA\\gor01\\one\\2006-6-08_14-26-15\\2006-6-08_14-26-15.NeuronQuality.mat\",\n",
    "# r\"W:\\Data\\KDIBA\\gor01\\one\\2006-6-08_14-26-15\\2006-6-08_14-26-15.NQv6.mat\",\n",
    "r\"W:\\Data\\KDIBA\\gor01\\one\\2006-6-08_14-26-15\\2006-6-08_14-26-15.position_info.mat\",\n",
    "# r\"W:\\Data\\KDIBA\\gor01\\one\\2006-6-08_14-26-15\\2006-6-08_14-26-15.Rise.mat\",\n",
    "# r\"W:\\Data\\KDIBA\\gor01\\one\\2006-6-08_14-26-15\\2006-6-08_14-26-15.session.mat\",\n",
    "# r\"W:\\Data\\KDIBA\\gor01\\one\\2006-6-08_14-26-15\\2006-6-08_14-26-15.spikeII.mat\",\n",
    "# r\"W:\\Data\\KDIBA\\gor01\\one\\2006-6-08_14-26-15\\2006-6-08_14-26-15.spikeJ.mat\",\n",
    "# r\"W:\\Data\\KDIBA\\gor01\\one\\2006-6-08_14-26-15\\2006-6-08_14-26-15.spikes.mat\",\n",
    "# r\"W:\\Data\\KDIBA\\gor01\\one\\2006-6-08_14-26-15\\2006-6-08_14-26-15.SynchCA.mat\",\n",
    "# r\"W:\\Data\\KDIBA\\gor01\\one\\2006-6-08_14-26-15\\2006-6-08_14-26-15.SynchCA1.mat\",\n",
    "# r\"W:\\Data\\KDIBA\\gor01\\one\\2006-6-08_14-26-15\\2006-6-08_14-26-15.SynchCA3.mat\",\n",
    "# r\"W:\\Data\\KDIBA\\gor01\\one\\2006-6-08_14-26-15\\2006-6-08_14-26-15HCCG.mat\",\n",
    "# r\"W:\\Data\\KDIBA\\gor01\\one\\2006-6-08_14-26-15\\2006-6-08_14-26-15INCCG.mat\",\n",
    "# r\"W:\\Data\\KDIBA\\gor01\\one\\2006-6-08_14-26-15\\2006-6-08_14-26-15vt.mat\",\n",
    "# r\"W:\\Data\\KDIBA\\gor01\\one\\2006-6-08_14-26-15\\data_NeuroScope2.mat\"\n",
    "]\n",
    "filenames_list = [Path(filename) for filename in filenames_strs_list]\n",
    "# filenames_list"
   ]
  },
  {
   "cell_type": "code",
   "execution_count": null,
   "metadata": {},
   "outputs": [],
   "source": [
    "from silx.gui.dialog.GroupDialog import GroupDialog\n",
    "\n",
    "dialog = GroupDialog()\n",
    "# dialog.addFile(str(filenames_list[0]))\n",
    "[dialog.addFile(str(a_filename)) for a_filename in filenames_list]\n",
    "dialog.show()\n",
    "if dialog.exec():\n",
    "    print(\"File path: %s\" % dialog.getSelectedDataUrl().file_path())\n",
    "    print(\"HDF5 group path : %s \" % dialog.getSelectedDataUrl().data_path())\n",
    "else:\n",
    "    print(\"Operation cancelled :(\")"
   ]
  },
  {
   "cell_type": "code",
   "execution_count": null,
   "metadata": {},
   "outputs": [],
   "source": []
  }
 ],
 "metadata": {
  "kernelspec": {
   "display_name": "Python 3.9.7 ('PyQt6')",
   "language": "python",
   "name": "python3"
  },
  "language_info": {
   "codemirror_mode": {
    "name": "ipython",
    "version": 3
   },
   "file_extension": ".py",
   "mimetype": "text/x-python",
   "name": "python",
   "nbconvert_exporter": "python",
   "pygments_lexer": "ipython3",
   "version": "3.9.13"
  },
  "orig_nbformat": 4,
  "vscode": {
   "interpreter": {
    "hash": "7661c287af60a9c20613cabe3e87f3b09e4df5b196f0e10b1bebb1264e324d9a"
   }
  }
 },
 "nbformat": 4,
 "nbformat_minor": 2
}
