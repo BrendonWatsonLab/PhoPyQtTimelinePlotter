{
 "cells": [
  {
   "cell_type": "code",
   "execution_count": 1,
   "metadata": {},
   "outputs": [],
   "source": [
    "import numpy\n",
    "import sys\n",
    "\n",
    "from pathlib import Path\n",
    "# C:\\Users\\pho\\repos\\PhoPyQtTimelinePlotter\\app\n",
    "# from PhoPyQtTimelinePlotter.app.filesystem.FilesystemRecordBase import discover_data_files\n",
    "from app.filesystem.FilesystemRecordBase import discover_data_files\n",
    "\n",
    "# silx GUI:\n",
    "from silx.gui import qt\n",
    "from silx.gui.plot.StackView import StackViewMainWindow"
   ]
  },
  {
   "cell_type": "code",
   "execution_count": 2,
   "metadata": {},
   "outputs": [],
   "source": [
    "# wants_recurrsive_data_file_search = False\n",
    "wants_recurrsive_data_file_search = True\n",
    "# files_search_parent_path = Path(r'R:\\data\\RoyMaze1')\n",
    "# files_search_parent_path = Path(r'W:\\Data\\KDIBA\\gor01\\one\\2006-6-08_14-26-15')\n",
    "files_search_parent_path = Path(r'C:\\Users\\pho\\repos\\PhoPy3DPositionAnalysis2021')\n",
    "\n",
    "# filenames_list = []\n",
    "# no_args_specified = (len(filenames_list) == 0)\n",
    "# if no_args_specified:\n",
    "# \tprint(f'no path specified as args, using default {files_search_parent_path}')\n",
    "# \tfilenames_list = [files_search_parent_path]\n",
    "\t\n",
    "# filenames_list = [Path(filename) for filename in filenames_list]\n",
    "# filenames_list\n",
    "\n"
   ]
  },
  {
   "cell_type": "code",
   "execution_count": 3,
   "metadata": {},
   "outputs": [
    {
     "data": {
      "text/plain": [
       "[WindowsPath('C:/Users/pho/repos/PhoPy3DPositionAnalysis2021/data/computation_results_cache_store.h5'),\n",
       " WindowsPath('C:/Users/pho/repos/PhoPy3DPositionAnalysis2021/data/pipeline_cache_store.h5'),\n",
       " WindowsPath('C:/Users/pho/repos/PhoPy3DPositionAnalysis2021/data/test_cache_store.h5')]"
      ]
     },
     "execution_count": 3,
     "metadata": {},
     "output_type": "execute_result"
    }
   ],
   "source": [
    "filenames_list = discover_data_files(files_search_parent_path, file_extension='.h5', recursive=wants_recurrsive_data_file_search)\n",
    "filenames_list\n"
   ]
  },
  {
   "cell_type": "code",
   "execution_count": 19,
   "metadata": {},
   "outputs": [],
   "source": [
    "filenames_strs_list = [\n",
    "# r\"W:\\Data\\KDIBA\\gor01\\one\\2006-6-08_14-26-15\\2006-6-08_14-26-15-gam.mat\",\n",
    "# r\"W:\\Data\\KDIBA\\gor01\\one\\2006-6-08_14-26-15\\2006-6-08_14-26-15-low.mat\",\n",
    "r\"W:\\Data\\KDIBA\\gor01\\one\\2006-6-08_14-26-15\\2006-6-08_14-26-15-replay.mat\",\n",
    "# r\"W:\\Data\\KDIBA\\gor01\\one\\2006-6-08_14-26-15\\2006-6-08_14-26-15-rip.mat\",\n",
    "# r\"W:\\Data\\KDIBA\\gor01\\one\\2006-6-08_14-26-15\\2006-6-08_14-26-15-ripV6.mat\",\n",
    "# r\"W:\\Data\\KDIBA\\gor01\\one\\2006-6-08_14-26-15\\2006-6-08_14-26-15.eegseg.mat\",\n",
    "r\"W:\\Data\\KDIBA\\gor01\\one\\2006-6-08_14-26-15\\2006-6-08_14-26-15.epochs_info.mat\",\n",
    "# r\"W:\\Data\\KDIBA\\gor01\\one\\2006-6-08_14-26-15\\2006-6-08_14-26-15.Gamma.mat\",\n",
    "r\"W:\\Data\\KDIBA\\gor01\\one\\2006-6-08_14-26-15\\2006-6-08_14-26-15.laps_info.mat\",\n",
    "# r\"W:\\Data\\KDIBA\\gor01\\one\\2006-6-08_14-26-15\\2006-6-08_14-26-15.NeuronQuality.mat\",\n",
    "# r\"W:\\Data\\KDIBA\\gor01\\one\\2006-6-08_14-26-15\\2006-6-08_14-26-15.NQv6.mat\",\n",
    "r\"W:\\Data\\KDIBA\\gor01\\one\\2006-6-08_14-26-15\\2006-6-08_14-26-15.position_info.mat\",\n",
    "# r\"W:\\Data\\KDIBA\\gor01\\one\\2006-6-08_14-26-15\\2006-6-08_14-26-15.Rise.mat\",\n",
    "# r\"W:\\Data\\KDIBA\\gor01\\one\\2006-6-08_14-26-15\\2006-6-08_14-26-15.session.mat\",\n",
    "# r\"W:\\Data\\KDIBA\\gor01\\one\\2006-6-08_14-26-15\\2006-6-08_14-26-15.spikeII.mat\",\n",
    "# r\"W:\\Data\\KDIBA\\gor01\\one\\2006-6-08_14-26-15\\2006-6-08_14-26-15.spikeJ.mat\",\n",
    "# r\"W:\\Data\\KDIBA\\gor01\\one\\2006-6-08_14-26-15\\2006-6-08_14-26-15.spikes.mat\",\n",
    "# r\"W:\\Data\\KDIBA\\gor01\\one\\2006-6-08_14-26-15\\2006-6-08_14-26-15.SynchCA.mat\",\n",
    "# r\"W:\\Data\\KDIBA\\gor01\\one\\2006-6-08_14-26-15\\2006-6-08_14-26-15.SynchCA1.mat\",\n",
    "# r\"W:\\Data\\KDIBA\\gor01\\one\\2006-6-08_14-26-15\\2006-6-08_14-26-15.SynchCA3.mat\",\n",
    "# r\"W:\\Data\\KDIBA\\gor01\\one\\2006-6-08_14-26-15\\2006-6-08_14-26-15HCCG.mat\",\n",
    "# r\"W:\\Data\\KDIBA\\gor01\\one\\2006-6-08_14-26-15\\2006-6-08_14-26-15INCCG.mat\",\n",
    "# r\"W:\\Data\\KDIBA\\gor01\\one\\2006-6-08_14-26-15\\2006-6-08_14-26-15vt.mat\",\n",
    "# r\"W:\\Data\\KDIBA\\gor01\\one\\2006-6-08_14-26-15\\data_NeuroScope2.mat\"\n",
    "]\n",
    "filenames_list = [Path(filename) for filename in filenames_strs_list]\n",
    "# filenames_list"
   ]
  },
  {
   "cell_type": "code",
   "execution_count": 20,
   "metadata": {},
   "outputs": [
    {
     "ename": "OSError",
     "evalue": "File 'W:\\Data\\KDIBA\\gor01\\one\\2006-6-08_14-26-15\\data_NeuroScope2.mat' can't be read as HDF5",
     "output_type": "error",
     "traceback": [
      "\u001b[1;31m---------------------------------------------------------------------------\u001b[0m",
      "\u001b[1;31mOSError\u001b[0m                                   Traceback (most recent call last)",
      "\u001b[1;32mc:\\Users\\pho\\repos\\PhoPyQtTimelinePlotter\\NewNeuropyDataTesting.ipynb Cell 5\u001b[0m in \u001b[0;36m<module>\u001b[1;34m\u001b[0m\n\u001b[0;32m      <a href='vscode-notebook-cell:/c%3A/Users/pho/repos/PhoPyQtTimelinePlotter/NewNeuropyDataTesting.ipynb#W3sZmlsZQ%3D%3D?line=2'>3</a>\u001b[0m dialog \u001b[39m=\u001b[39m GroupDialog()\n\u001b[0;32m      <a href='vscode-notebook-cell:/c%3A/Users/pho/repos/PhoPyQtTimelinePlotter/NewNeuropyDataTesting.ipynb#W3sZmlsZQ%3D%3D?line=3'>4</a>\u001b[0m \u001b[39m# dialog.addFile(str(filenames_list[0]))\u001b[39;00m\n\u001b[1;32m----> <a href='vscode-notebook-cell:/c%3A/Users/pho/repos/PhoPyQtTimelinePlotter/NewNeuropyDataTesting.ipynb#W3sZmlsZQ%3D%3D?line=4'>5</a>\u001b[0m [dialog\u001b[39m.\u001b[39maddFile(\u001b[39mstr\u001b[39m(a_filename)) \u001b[39mfor\u001b[39;00m a_filename \u001b[39min\u001b[39;00m filenames_list]\n\u001b[0;32m      <a href='vscode-notebook-cell:/c%3A/Users/pho/repos/PhoPyQtTimelinePlotter/NewNeuropyDataTesting.ipynb#W3sZmlsZQ%3D%3D?line=5'>6</a>\u001b[0m dialog\u001b[39m.\u001b[39mshow()\n\u001b[0;32m      <a href='vscode-notebook-cell:/c%3A/Users/pho/repos/PhoPyQtTimelinePlotter/NewNeuropyDataTesting.ipynb#W3sZmlsZQ%3D%3D?line=6'>7</a>\u001b[0m \u001b[39mif\u001b[39;00m dialog\u001b[39m.\u001b[39mexec():\n",
      "\u001b[1;32mc:\\Users\\pho\\repos\\PhoPyQtTimelinePlotter\\NewNeuropyDataTesting.ipynb Cell 5\u001b[0m in \u001b[0;36m<listcomp>\u001b[1;34m(.0)\u001b[0m\n\u001b[0;32m      <a href='vscode-notebook-cell:/c%3A/Users/pho/repos/PhoPyQtTimelinePlotter/NewNeuropyDataTesting.ipynb#W3sZmlsZQ%3D%3D?line=2'>3</a>\u001b[0m dialog \u001b[39m=\u001b[39m GroupDialog()\n\u001b[0;32m      <a href='vscode-notebook-cell:/c%3A/Users/pho/repos/PhoPyQtTimelinePlotter/NewNeuropyDataTesting.ipynb#W3sZmlsZQ%3D%3D?line=3'>4</a>\u001b[0m \u001b[39m# dialog.addFile(str(filenames_list[0]))\u001b[39;00m\n\u001b[1;32m----> <a href='vscode-notebook-cell:/c%3A/Users/pho/repos/PhoPyQtTimelinePlotter/NewNeuropyDataTesting.ipynb#W3sZmlsZQ%3D%3D?line=4'>5</a>\u001b[0m [dialog\u001b[39m.\u001b[39;49maddFile(\u001b[39mstr\u001b[39;49m(a_filename)) \u001b[39mfor\u001b[39;00m a_filename \u001b[39min\u001b[39;00m filenames_list]\n\u001b[0;32m      <a href='vscode-notebook-cell:/c%3A/Users/pho/repos/PhoPyQtTimelinePlotter/NewNeuropyDataTesting.ipynb#W3sZmlsZQ%3D%3D?line=5'>6</a>\u001b[0m dialog\u001b[39m.\u001b[39mshow()\n\u001b[0;32m      <a href='vscode-notebook-cell:/c%3A/Users/pho/repos/PhoPyQtTimelinePlotter/NewNeuropyDataTesting.ipynb#W3sZmlsZQ%3D%3D?line=6'>7</a>\u001b[0m \u001b[39mif\u001b[39;00m dialog\u001b[39m.\u001b[39mexec():\n",
      "File \u001b[1;32mc:\\Users\\pho\\miniconda3\\envs\\PyQt6\\lib\\site-packages\\silx\\gui\\dialog\\GroupDialog.py:135\u001b[0m, in \u001b[0;36m_Hdf5ItemSelectionDialog.addFile\u001b[1;34m(self, path)\u001b[0m\n\u001b[0;32m    129\u001b[0m \u001b[39mdef\u001b[39;00m \u001b[39maddFile\u001b[39m(\u001b[39mself\u001b[39m, path):\n\u001b[0;32m    130\u001b[0m     \u001b[39m\"\"\"Add a HDF5 file to the tree.\u001b[39;00m\n\u001b[0;32m    131\u001b[0m \u001b[39m    All groups it contains will be selectable in the dialog.\u001b[39;00m\n\u001b[0;32m    132\u001b[0m \n\u001b[0;32m    133\u001b[0m \u001b[39m    :param str path: File path\u001b[39;00m\n\u001b[0;32m    134\u001b[0m \u001b[39m    \"\"\"\u001b[39;00m\n\u001b[1;32m--> 135\u001b[0m     \u001b[39mself\u001b[39;49m\u001b[39m.\u001b[39;49m_model\u001b[39m.\u001b[39;49minsertFile(path)\n",
      "File \u001b[1;32mc:\\Users\\pho\\miniconda3\\envs\\PyQt6\\lib\\site-packages\\silx\\gui\\hdf5\\Hdf5TreeModel.py:654\u001b[0m, in \u001b[0;36mHdf5TreeModel.insertFile\u001b[1;34m(self, filename, row)\u001b[0m\n\u001b[0;32m    649\u001b[0m \u001b[39m\"\"\"Load a HDF5 file into the data model.\u001b[39;00m\n\u001b[0;32m    650\u001b[0m \n\u001b[0;32m    651\u001b[0m \u001b[39m:param filename: file path.\u001b[39;00m\n\u001b[0;32m    652\u001b[0m \u001b[39m\"\"\"\u001b[39;00m\n\u001b[0;32m    653\u001b[0m \u001b[39mtry\u001b[39;00m:\n\u001b[1;32m--> 654\u001b[0m     h5file \u001b[39m=\u001b[39m silx_io\u001b[39m.\u001b[39;49mopen(filename)\n\u001b[0;32m    655\u001b[0m     \u001b[39mif\u001b[39;00m \u001b[39mself\u001b[39m\u001b[39m.\u001b[39m__ownFiles:\n\u001b[0;32m    656\u001b[0m         \u001b[39mself\u001b[39m\u001b[39m.\u001b[39m__openedFiles\u001b[39m.\u001b[39mappend(h5file)\n",
      "File \u001b[1;32mc:\\Users\\pho\\miniconda3\\envs\\PyQt6\\lib\\site-packages\\silx\\io\\utils.py:601\u001b[0m, in \u001b[0;36mopen\u001b[1;34m(filename)\u001b[0m\n\u001b[0;32m    599\u001b[0m     \u001b[39mif\u001b[39;00m \u001b[39mnot\u001b[39;00m url\u001b[39m.\u001b[39mis_valid():\n\u001b[0;32m    600\u001b[0m         \u001b[39mraise\u001b[39;00m \u001b[39mIOError\u001b[39;00m(\u001b[39m\"\u001b[39m\u001b[39mURL \u001b[39m\u001b[39m'\u001b[39m\u001b[39m%s\u001b[39;00m\u001b[39m'\u001b[39m\u001b[39m is not valid\u001b[39m\u001b[39m\"\u001b[39m \u001b[39m%\u001b[39m filename)\n\u001b[1;32m--> 601\u001b[0m     h5_file \u001b[39m=\u001b[39m _open_local_file(url\u001b[39m.\u001b[39;49mfile_path())\n\u001b[0;32m    602\u001b[0m \u001b[39melif\u001b[39;00m url\u001b[39m.\u001b[39mscheme() \u001b[39min\u001b[39;00m [\u001b[39m\"\u001b[39m\u001b[39mfabio\u001b[39m\u001b[39m\"\u001b[39m]:\n\u001b[0;32m    603\u001b[0m     \u001b[39mraise\u001b[39;00m \u001b[39mIOError\u001b[39;00m(\u001b[39m\"\u001b[39m\u001b[39mURL \u001b[39m\u001b[39m'\u001b[39m\u001b[39m%s\u001b[39;00m\u001b[39m'\u001b[39m\u001b[39m containing fabio scheme is not supported\u001b[39m\u001b[39m\"\u001b[39m \u001b[39m%\u001b[39m filename)\n",
      "File \u001b[1;32mc:\\Users\\pho\\miniconda3\\envs\\PyQt6\\lib\\site-packages\\silx\\io\\utils.py:525\u001b[0m, in \u001b[0;36m_open_local_file\u001b[1;34m(filename)\u001b[0m\n\u001b[0;32m    522\u001b[0m     \u001b[39mfor\u001b[39;00m exc_info, message \u001b[39min\u001b[39;00m debugging_info:\n\u001b[0;32m    523\u001b[0m         logger\u001b[39m.\u001b[39mdebug(message, exc_info\u001b[39m=\u001b[39mexc_info)\n\u001b[1;32m--> 525\u001b[0m \u001b[39mraise\u001b[39;00m \u001b[39mIOError\u001b[39;00m(\u001b[39m\"\u001b[39m\u001b[39mFile \u001b[39m\u001b[39m'\u001b[39m\u001b[39m%s\u001b[39;00m\u001b[39m'\u001b[39m\u001b[39m can\u001b[39m\u001b[39m'\u001b[39m\u001b[39mt be read as HDF5\u001b[39m\u001b[39m\"\u001b[39m \u001b[39m%\u001b[39m filename)\n",
      "\u001b[1;31mOSError\u001b[0m: File 'W:\\Data\\KDIBA\\gor01\\one\\2006-6-08_14-26-15\\data_NeuroScope2.mat' can't be read as HDF5"
     ]
    }
   ],
   "source": [
    "from silx.gui.dialog.GroupDialog import GroupDialog\n",
    "\n",
    "dialog = GroupDialog()\n",
    "# dialog.addFile(str(filenames_list[0]))\n",
    "[dialog.addFile(str(a_filename)) for a_filename in filenames_list]\n",
    "dialog.show()\n",
    "if dialog.exec():\n",
    "    print(\"File path: %s\" % dialog.getSelectedDataUrl().file_path())\n",
    "    print(\"HDF5 group path : %s \" % dialog.getSelectedDataUrl().data_path())\n",
    "else:\n",
    "    print(\"Operation cancelled :(\")"
   ]
  },
  {
   "cell_type": "code",
   "execution_count": null,
   "metadata": {},
   "outputs": [],
   "source": []
  }
 ],
 "metadata": {
  "kernelspec": {
   "display_name": "Python 3.9.7 ('PyQt6')",
   "language": "python",
   "name": "python3"
  },
  "language_info": {
   "codemirror_mode": {
    "name": "ipython",
    "version": 3
   },
   "file_extension": ".py",
   "mimetype": "text/x-python",
   "name": "python",
   "nbconvert_exporter": "python",
   "pygments_lexer": "ipython3",
   "version": "3.9.7"
  },
  "orig_nbformat": 4,
  "vscode": {
   "interpreter": {
    "hash": "7661c287af60a9c20613cabe3e87f3b09e4df5b196f0e10b1bebb1264e324d9a"
   }
  }
 },
 "nbformat": 4,
 "nbformat_minor": 2
}
